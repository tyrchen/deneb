{
 "cells": [
  {
   "cell_type": "code",
   "execution_count": 30,
   "metadata": {},
   "outputs": [
    {
     "name": "stdout",
     "output_type": "stream",
     "text": [
      "All dependencies are up to date\n",
      "Resolving Hex dependencies...\n",
      "Dependency resolution completed:\n",
      "Unchanged:\n",
      "  deneb 0.2.1\n",
      "  elixir_uuid 1.2.1\n",
      "  ex_polars 0.3.1-dev\n",
      "  jason 1.2.2\n",
      "  rustler 0.22.0-rc.0\n",
      "  toml 0.5.2\n",
      "  typed_struct 0.2.1\n",
      "All dependencies are up to date\n",
      "==> deneb\n",
      "Compiling 10 files (.ex)\n",
      "Generated deneb app\n",
      "==> ex_polars\n",
      "Compiling NIF crate :expolars (native/expolars)...\n",
      "   Compiling expolars v0.1.0 (/Users/tchen/projects/mycode/elixir/IElixir/envs/polars/deps/ex_polars/native/expolars)\n",
      "    Finished release [optimized] target(s) in 1m 22s\n",
      "Compiling 6 files (.ex)\n",
      "Generated ex_polars app\n",
      "Resolving Hex dependencies...\n",
      "Dependency resolution completed:\n",
      "Unchanged:\n",
      "  deneb 0.2.1\n",
      "  elixir_uuid 1.2.1\n",
      "  ex_polars 0.3.1-dev\n",
      "  jason 1.2.2\n",
      "  rustler 0.22.0-rc.0\n",
      "  toml 0.5.2\n",
      "  typed_struct 0.2.1\n",
      "All dependencies are up to date\n",
      "==> ex_polars\n",
      "Compiling NIF crate :expolars (native/expolars)...\n",
      "    Finished release [optimized] target(s) in 0.46s\n"
     ]
    },
    {
     "name": "stderr",
     "output_type": "stream",
     "text": [
      "\u001b[33mwarning: \u001b[0mredefining module CustomEnvironment (current version defined in memory)\n",
      "  mix.exs:1\n",
      "\n"
     ]
    },
    {
     "data": {
      "text/plain": [
       ":ok"
      ]
     },
     "execution_count": 30,
     "metadata": {},
     "output_type": "execute_result"
    }
   ],
   "source": [
    "Boyle.mk(\"polars\")\n",
    "Boyle.activate(\"polars\")\n",
    "Boyle.install({:ex_polars, \"~> 0.3.1-dev\"})\n",
    "Boyle.install({:deneb, \"~> 0.2\"})"
   ]
  },
  {
   "cell_type": "code",
   "execution_count": 47,
   "metadata": {},
   "outputs": [
    {
     "data": {
      "text/plain": [
       "[Deneb.Chart, Deneb.Encoding, Deneb.Mark, Deneb.Projection, Deneb.Transform, Deneb.Viewer]"
      ]
     },
     "execution_count": 47,
     "metadata": {},
     "output_type": "execute_result"
    }
   ],
   "source": [
    "alias ExPolars.Series, as: S\n",
    "alias ExPolars.DataFrame, as: DF\n",
    "alias Deneb.{Chart, Encoding, Mark, Projection, Transform, Viewer}"
   ]
  },
  {
   "cell_type": "code",
   "execution_count": 37,
   "metadata": {},
   "outputs": [
    {
     "data": {
      "text/plain": [
       "shape: (44, 7)\n",
       "╭────────────┬───────┬───────┬───────┬───────┬────────┬──────────╮\n",
       "│ date       ┆ open  ┆ high  ┆ low   ┆ close ┆ signal ┆ ret      │\n",
       "│ ---        ┆ ---   ┆ ---   ┆ ---   ┆ ---   ┆ ---    ┆ ---      │\n",
       "│ str        ┆ f64   ┆ f64   ┆ f64   ┆ f64   ┆ str    ┆ f64      │\n",
       "╞════════════╪═══════╪═══════╪═══════╪═══════╪════════╪══════════╡\n",
       "│ 2009-06-01 ┆ 28.7  ┆ 30.05 ┆ 28.45 ┆ 30.04 ┆ short  ┆ -4.894e0 │\n",
       "├╌╌╌╌╌╌╌╌╌╌╌╌┼╌╌╌╌╌╌╌┼╌╌╌╌╌╌╌┼╌╌╌╌╌╌╌┼╌╌╌╌╌╌╌┼╌╌╌╌╌╌╌╌┼╌╌╌╌╌╌╌╌╌╌┤\n",
       "│ 2009-06-02 ┆ 30.04 ┆ 30.13 ┆ 28.3  ┆ 29.63 ┆ short  ┆ -3.23e-1 │\n",
       "├╌╌╌╌╌╌╌╌╌╌╌╌┼╌╌╌╌╌╌╌┼╌╌╌╌╌╌╌┼╌╌╌╌╌╌╌┼╌╌╌╌╌╌╌┼╌╌╌╌╌╌╌╌┼╌╌╌╌╌╌╌╌╌╌┤\n",
       "│ 2009-06-03 ┆ 29.62 ┆ 31.79 ┆ 29.62 ┆ 31.02 ┆ short  ┆ 3.687    │\n",
       "├╌╌╌╌╌╌╌╌╌╌╌╌┼╌╌╌╌╌╌╌┼╌╌╌╌╌╌╌┼╌╌╌╌╌╌╌┼╌╌╌╌╌╌╌┼╌╌╌╌╌╌╌╌┼╌╌╌╌╌╌╌╌╌╌┤\n",
       "│ 2009-06-04 ┆ 31.02 ┆ 31.02 ┆ 29.92 ┆ 30.18 ┆ short  ┆ 4.51     │\n",
       "├╌╌╌╌╌╌╌╌╌╌╌╌┼╌╌╌╌╌╌╌┼╌╌╌╌╌╌╌┼╌╌╌╌╌╌╌┼╌╌╌╌╌╌╌┼╌╌╌╌╌╌╌╌┼╌╌╌╌╌╌╌╌╌╌┤\n",
       "│ ...        ┆ ...   ┆ ...   ┆ ...   ┆ ...   ┆ ...    ┆ ...      │\n",
       "├╌╌╌╌╌╌╌╌╌╌╌╌┼╌╌╌╌╌╌╌┼╌╌╌╌╌╌╌┼╌╌╌╌╌╌╌┼╌╌╌╌╌╌╌┼╌╌╌╌╌╌╌╌┼╌╌╌╌╌╌╌╌╌╌┤\n",
       "│ 2009-07-27 ┆ 24.06 ┆ 24.86 ┆ 24.02 ┆ 24.28 ┆ long   ┆ -1.89e-1 │\n",
       "├╌╌╌╌╌╌╌╌╌╌╌╌┼╌╌╌╌╌╌╌┼╌╌╌╌╌╌╌┼╌╌╌╌╌╌╌┼╌╌╌╌╌╌╌┼╌╌╌╌╌╌╌╌┼╌╌╌╌╌╌╌╌╌╌┤\n",
       "│ 2009-07-28 ┆ 24.28 ┆ 25.61 ┆ 24.28 ┆ 25.01 ┆ long   ┆ -4.38e0  │\n",
       "├╌╌╌╌╌╌╌╌╌╌╌╌┼╌╌╌╌╌╌╌┼╌╌╌╌╌╌╌┼╌╌╌╌╌╌╌┼╌╌╌╌╌╌╌┼╌╌╌╌╌╌╌╌┼╌╌╌╌╌╌╌╌╌╌┤\n",
       "│ 2009-07-29 ┆ 25.47 ┆ 26.18 ┆ 25.41 ┆ 25.61 ┆ long   ┆ -4.485e0 │\n",
       "├╌╌╌╌╌╌╌╌╌╌╌╌┼╌╌╌╌╌╌╌┼╌╌╌╌╌╌╌┼╌╌╌╌╌╌╌┼╌╌╌╌╌╌╌┼╌╌╌╌╌╌╌╌┼╌╌╌╌╌╌╌╌╌╌┤\n",
       "│ 2009-07-30 ┆ 25.4  ┆ 25.76 ┆ 24.85 ┆ 25.4  ┆ long   ┆ -1.704e0 │\n",
       "├╌╌╌╌╌╌╌╌╌╌╌╌┼╌╌╌╌╌╌╌┼╌╌╌╌╌╌╌┼╌╌╌╌╌╌╌┼╌╌╌╌╌╌╌┼╌╌╌╌╌╌╌╌┼╌╌╌╌╌╌╌╌╌╌┤\n",
       "│ 2009-07-31 ┆ 25.4  ┆ 26.22 ┆ 24.93 ┆ 25.92 ┆ short  ┆ 5.068    │\n",
       "╰────────────┴───────┴───────┴───────┴───────┴────────┴──────────╯"
      ]
     },
     "execution_count": 37,
     "metadata": {},
     "output_type": "execute_result"
    }
   ],
   "source": [
    "ohlc = ExPolars.Datasets.ohlc"
   ]
  },
  {
   "cell_type": "code",
   "execution_count": 38,
   "metadata": {},
   "outputs": [
    {
     "data": {
      "text/html": [
       "<div id=\"deneb-chart-3d1840bbbbcb41f1bf3e5e3b0561179c\"></div>\n",
       "<script type=\"text/javascript\">\n",
       "(function(spec, embedOpt) {\n",
       "  const outputDiv = document.getElementById(\"deneb-chart-3d1840bbbbcb41f1bf3e5e3b0561179c\");\n",
       "  const urls = {\n",
       "    \"vega\": \"https://cdn.jsdelivr.net/npm/vega@5.18.0\",\n",
       "    \"vega-lite\": \"https://cdn.jsdelivr.net/npm/vega-lite@4.17.0\",\n",
       "    \"vega-embed\": \"https://cdn.jsdelivr.net/npm/vega-embed@6.15.0\",\n",
       "  };\n",
       "  function loadScript(lib) {\n",
       "    return new Promise(function(resolve, reject) {\n",
       "      var s = document.createElement('script');\n",
       "      s.src = urls[lib];\n",
       "      s.async = true;\n",
       "      s.onload = () => resolve(urls[lib]);\n",
       "      s.onerror = () => reject(`Error loading script: ${urls[lib]}`);\n",
       "      document.getElementsByTagName(\"head\")[0].appendChild(s);\n",
       "    });\n",
       "  }\n",
       "  function showError(err) {\n",
       "    outputDiv.innerHTML = `<div class=\"error\" style=\"color:red;\">${err}</div>`;\n",
       "    throw err;\n",
       "  }\n",
       "  function displayChart(vegaEmbed) {\n",
       "    vegaEmbed(outputDiv, spec, embedOpt)\n",
       "      .catch(err => showError(`Javascript Error: ${err.message}<br>This usually means there's a typo in your chart specification. See the javascript console for the full traceback.`));\n",
       "  }\n",
       "  if(typeof define === \"function\" && define.amd) {\n",
       "      // requirejs paths need '.js' extension stripped.\n",
       "      const paths = Object.keys(urls).reduce(function(paths, package) {\n",
       "          paths[package] = urls[package].replace(/\\.js$/, \"\");\n",
       "          return paths\n",
       "      }, {})\n",
       "      requirejs.config({paths});\n",
       "      require([\"vega-embed\"], displayChart, err => showError(`Error loading script: ${err.message}`));\n",
       "  } else if (typeof vegaEmbed === \"function\") {\n",
       "      displayChart(vegaEmbed);\n",
       "  } else {\n",
       "      loadScript(\"vega\")\n",
       "          .then(() => loadScript(\"vega-lite\"))\n",
       "          .then(() => loadScript(\"vega-embed\"))\n",
       "          .catch(showError)\n",
       "          .then(() => displayChart(vegaEmbed));\n",
       "  }\n",
       "})({\"$schema\":\"https://vega.github.io/schema/vega-lite/v4.json\",\"data\":{\"format\":{\"type\":\"csv\"},\"values\":\"date,open,high,low,close,signal,ret\\n2009-06-01,28.7,30.05,28.45,30.04,short,-4.89396411092985\\n2009-06-02,30.04,30.13,28.3,29.63,short,-0.322580645161295\\n2009-06-03,29.62,31.79,29.62,31.02,short,3.68663594470045\\n2009-06-04,31.02,31.02,29.92,30.18,short,4.51010886469673\\n2009-06-05,29.39,30.81,28.85,29.62,short,6.08424336973478\\n2009-06-08,30.84,31.82,26.41,29.77,short,1.2539184952978\\n2009-06-09,29.77,29.77,27.79,28.27,short,-5.02431118314424\\n2009-06-10,26.9,29.74,26.9,28.46,short,-5.46623794212217\\n2009-06-11,27.36,28.11,26.81,28.11,short,-8.3743842364532\\n2009-06-12,28.08,28.5,27.73,28.15,short,-5.52763819095477\\n2009-06-15,29.7,31.09,29.64,30.81,long,3.4920634920635\\n2009-06-16,30.81,32.75,30.07,32.68,short,0.155038759689914\\n2009-06-17,31.19,32.77,30.64,31.54,short,5.82822085889571\\n2009-06-18,31.54,31.54,29.6,30.03,short,8.17610062893082\\n2009-06-19,29.16,29.32,27.56,27.99,short,8.59872611464968\\n2009-06-22,30.4,32.05,30.3,31.17,short,15.4907975460123\\n2009-06-23,31.3,31.54,27.83,30.58,short,11.7370892018779\\n2009-06-24,30.58,30.58,28.79,29.05,long,-10.4234527687296\\n2009-06-25,29.45,29.56,26.3,26.36,long,0\\n2009-06-26,27.09,27.22,25.76,25.93,long,0\\n2009-06-29,25.93,27.18,25.29,25.35,long,5.26315789473684\\n2009-06-30,25.36,27.38,25.02,26.35,long,6.73758865248228\\n2009-07-01,25.73,26.31,24.8,26.22,long,7.83645655877341\\n2009-07-02,26.22,28.62,26.22,27.95,long,2.76422764227643\\n2009-07-06,30.32,30.6,28.99,29,short,-2.14521452145214\\n2009-07-07,29,30.94,28.9,30.85,short,3.03514376996805\\n2009-07-08,30.85,33.05,30.43,31.3,short,5.68720379146919\\n2009-07-09,30.23,30.49,29.28,29.78,short,8.22784810126583\\n2009-07-10,29.78,30.34,28.82,29.02,short,8.64779874213836\\n2009-07-13,28.36,29.24,25.42,26.31,short,7.32899022801303\\n2009-07-14,26.31,26.84,24.99,25.02,short,7.30897009966778\\n2009-07-15,25.05,26.06,23.83,25.89,neutral,0\\n2009-07-16,25.96,26.18,24.51,25.42,long,-9.82758620689656\\n2009-07-17,25.42,25.55,23.88,24.34,long,-10.8433734939759\\n2009-07-20,25.06,25.42,24.26,24.4,long,-7.55711775043936\\n2009-07-21,24.28,25.14,23.81,23.87,long,-2.5089605734767\\n2009-07-22,24.05,24.14,23.24,23.47,long,0.915750915750916\\n2009-07-23,23.71,24.05,23.21,23.43,long,2.47148288973383\\n2009-07-24,23.87,23.87,23,23.09,long,4.22264875239922\\n2009-07-27,24.06,24.86,24.02,24.28,long,-0.189393939393929\\n2009-07-28,24.28,25.61,24.28,25.01,long,-4.37956204379562\\n2009-07-29,25.47,26.18,25.41,25.61,long,-4.48504983388705\\n2009-07-30,25.4,25.76,24.85,25.4,long,-1.70357751277683\\n2009-07-31,25.4,26.22,24.93,25.92,short,5.06756756756757\\n\"},\"encoding\":{\"color\":{\"condition\":{\"test\":\"datum.open < datum.close\",\"value\":\"#06982d\"},\"value\":\"#ae1325\"},\"x\":{\"axis\":{\"format\":\"%m/%d\",\"lebelAngle\":-45},\"field\":\"date\",\"type\":\"temporal\"},\"y\":{\"scale\":{\"zero\":false},\"type\":\"quantitative\"}},\"height\":600,\"layer\":[{\"encoding\":{\"y\":{\"field\":\"low\"},\"y2\":{\"field\":\"high\"}},\"mark\":{\"type\":\"rule\"}},{\"encoding\":{\"y\":{\"field\":\"open\"},\"y2\":{\"field\":\"close\"}},\"mark\":{\"type\":\"bar\"}}],\"width\":800}, {});\n",
       "</script>\n"
      ]
     },
     "metadata": {},
     "output_type": "display_data"
    }
   ],
   "source": [
    "{:ok, data} = DF.to_csv(ohlc)\n",
    "encoding = %{\n",
    "  color: %{condition: %{test: \"datum.open < datum.close\", value: \"#06982d\"}, value: \"#ae1325\"},\n",
    "  x: %{\n",
    "    axis: %{format: \"%m/%d\", lebelAngle: -45},\n",
    "    field: \"date\",\n",
    "    type: \"temporal\"\n",
    "  },\n",
    "  y: %{scale: %{zero: false}, type: \"quantitative\"}\n",
    "}\n",
    "chart1 = Chart.new(Mark.new(:rule), Encoding.new(%{y: %{field: \"low\"}, y2: %{field: \"high\"}}))\n",
    "chart2 = Chart.new(Mark.new(:bar), Encoding.new(%{y: %{field: \"open\"}, y2: %{field: \"close\"}}))\n",
    "chart = Chart.layer([chart1, chart2], [encoding: encoding, width: 800, height: 600])\n",
    "spec = Deneb.to_json(chart, data)\n",
    "Viewer.display(spec)"
   ]
  },
  {
   "cell_type": "code",
   "execution_count": 39,
   "metadata": {},
   "outputs": [
    {
     "data": {
      "text/plain": [
       "shape: (120, 4)\n",
       "╭────────┬──────────────────┬──────┬─────────────────╮\n",
       "│ yield  ┆ variety          ┆ year ┆ site            │\n",
       "│ ---    ┆ ---              ┆ ---  ┆ ---             │\n",
       "│ f64    ┆ str              ┆ i64  ┆ str             │\n",
       "╞════════╪══════════════════╪══════╪═════════════════╡\n",
       "│ 27     ┆ Manchuria        ┆ 1931 ┆ University Farm │\n",
       "├╌╌╌╌╌╌╌╌┼╌╌╌╌╌╌╌╌╌╌╌╌╌╌╌╌╌╌┼╌╌╌╌╌╌┼╌╌╌╌╌╌╌╌╌╌╌╌╌╌╌╌╌┤\n",
       "│ 48.867 ┆ Manchuria        ┆ 1931 ┆ Waseca          │\n",
       "├╌╌╌╌╌╌╌╌┼╌╌╌╌╌╌╌╌╌╌╌╌╌╌╌╌╌╌┼╌╌╌╌╌╌┼╌╌╌╌╌╌╌╌╌╌╌╌╌╌╌╌╌┤\n",
       "│ 27.433 ┆ Manchuria        ┆ 1931 ┆ Morris          │\n",
       "├╌╌╌╌╌╌╌╌┼╌╌╌╌╌╌╌╌╌╌╌╌╌╌╌╌╌╌┼╌╌╌╌╌╌┼╌╌╌╌╌╌╌╌╌╌╌╌╌╌╌╌╌┤\n",
       "│ 39.933 ┆ Manchuria        ┆ 1931 ┆ Crookston       │\n",
       "├╌╌╌╌╌╌╌╌┼╌╌╌╌╌╌╌╌╌╌╌╌╌╌╌╌╌╌┼╌╌╌╌╌╌┼╌╌╌╌╌╌╌╌╌╌╌╌╌╌╌╌╌┤\n",
       "│ ...    ┆ ...              ┆ ...  ┆ ...             │\n",
       "├╌╌╌╌╌╌╌╌┼╌╌╌╌╌╌╌╌╌╌╌╌╌╌╌╌╌╌┼╌╌╌╌╌╌┼╌╌╌╌╌╌╌╌╌╌╌╌╌╌╌╌╌┤\n",
       "│ 58.167 ┆ Wisconsin No. 38 ┆ 1932 ┆ Waseca          │\n",
       "├╌╌╌╌╌╌╌╌┼╌╌╌╌╌╌╌╌╌╌╌╌╌╌╌╌╌╌┼╌╌╌╌╌╌┼╌╌╌╌╌╌╌╌╌╌╌╌╌╌╌╌╌┤\n",
       "│ 47.167 ┆ Wisconsin No. 38 ┆ 1932 ┆ Morris          │\n",
       "├╌╌╌╌╌╌╌╌┼╌╌╌╌╌╌╌╌╌╌╌╌╌╌╌╌╌╌┼╌╌╌╌╌╌┼╌╌╌╌╌╌╌╌╌╌╌╌╌╌╌╌╌┤\n",
       "│ 35.9   ┆ Wisconsin No. 38 ┆ 1932 ┆ Crookston       │\n",
       "├╌╌╌╌╌╌╌╌┼╌╌╌╌╌╌╌╌╌╌╌╌╌╌╌╌╌╌┼╌╌╌╌╌╌┼╌╌╌╌╌╌╌╌╌╌╌╌╌╌╌╌╌┤\n",
       "│ 20.667 ┆ Wisconsin No. 38 ┆ 1932 ┆ Grand Rapids    │\n",
       "├╌╌╌╌╌╌╌╌┼╌╌╌╌╌╌╌╌╌╌╌╌╌╌╌╌╌╌┼╌╌╌╌╌╌┼╌╌╌╌╌╌╌╌╌╌╌╌╌╌╌╌╌┤\n",
       "│ 29.333 ┆ Wisconsin No. 38 ┆ 1932 ┆ Duluth          │\n",
       "╰────────┴──────────────────┴──────┴─────────────────╯"
      ]
     },
     "execution_count": 39,
     "metadata": {},
     "output_type": "execute_result"
    }
   ],
   "source": [
    "barley = ExPolars.Datasets.barley"
   ]
  },
  {
   "cell_type": "code",
   "execution_count": 40,
   "metadata": {},
   "outputs": [
    {
     "data": {
      "text/html": [
       "<div id=\"deneb-chart-41af616797ac4a3da6afbbb16977b83e\"></div>\n",
       "<script type=\"text/javascript\">\n",
       "(function(spec, embedOpt) {\n",
       "  const outputDiv = document.getElementById(\"deneb-chart-41af616797ac4a3da6afbbb16977b83e\");\n",
       "  const urls = {\n",
       "    \"vega\": \"https://cdn.jsdelivr.net/npm/vega@5.18.0\",\n",
       "    \"vega-lite\": \"https://cdn.jsdelivr.net/npm/vega-lite@4.17.0\",\n",
       "    \"vega-embed\": \"https://cdn.jsdelivr.net/npm/vega-embed@6.15.0\",\n",
       "  };\n",
       "  function loadScript(lib) {\n",
       "    return new Promise(function(resolve, reject) {\n",
       "      var s = document.createElement('script');\n",
       "      s.src = urls[lib];\n",
       "      s.async = true;\n",
       "      s.onload = () => resolve(urls[lib]);\n",
       "      s.onerror = () => reject(`Error loading script: ${urls[lib]}`);\n",
       "      document.getElementsByTagName(\"head\")[0].appendChild(s);\n",
       "    });\n",
       "  }\n",
       "  function showError(err) {\n",
       "    outputDiv.innerHTML = `<div class=\"error\" style=\"color:red;\">${err}</div>`;\n",
       "    throw err;\n",
       "  }\n",
       "  function displayChart(vegaEmbed) {\n",
       "    vegaEmbed(outputDiv, spec, embedOpt)\n",
       "      .catch(err => showError(`Javascript Error: ${err.message}<br>This usually means there's a typo in your chart specification. See the javascript console for the full traceback.`));\n",
       "  }\n",
       "  if(typeof define === \"function\" && define.amd) {\n",
       "      // requirejs paths need '.js' extension stripped.\n",
       "      const paths = Object.keys(urls).reduce(function(paths, package) {\n",
       "          paths[package] = urls[package].replace(/\\.js$/, \"\");\n",
       "          return paths\n",
       "      }, {})\n",
       "      requirejs.config({paths});\n",
       "      require([\"vega-embed\"], displayChart, err => showError(`Error loading script: ${err.message}`));\n",
       "  } else if (typeof vegaEmbed === \"function\") {\n",
       "      displayChart(vegaEmbed);\n",
       "  } else {\n",
       "      loadScript(\"vega\")\n",
       "          .then(() => loadScript(\"vega-lite\"))\n",
       "          .then(() => loadScript(\"vega-embed\"))\n",
       "          .catch(showError)\n",
       "          .then(() => displayChart(vegaEmbed));\n",
       "  }\n",
       "})({\"$schema\":\"https://vega.github.io/schema/vega-lite/v4.json\",\"data\":{\"format\":{\"type\":\"csv\"},\"values\":\"yield,variety,year,site\\n27,Manchuria,1931,University Farm\\n48.86667,Manchuria,1931,Waseca\\n27.43334,Manchuria,1931,Morris\\n39.93333,Manchuria,1931,Crookston\\n32.96667,Manchuria,1931,Grand Rapids\\n28.96667,Manchuria,1931,Duluth\\n43.06666,Glabron,1931,University Farm\\n55.2,Glabron,1931,Waseca\\n28.76667,Glabron,1931,Morris\\n38.13333,Glabron,1931,Crookston\\n29.13333,Glabron,1931,Grand Rapids\\n29.66667,Glabron,1931,Duluth\\n35.13333,Svansota,1931,University Farm\\n47.33333,Svansota,1931,Waseca\\n25.76667,Svansota,1931,Morris\\n40.46667,Svansota,1931,Crookston\\n29.66667,Svansota,1931,Grand Rapids\\n25.7,Svansota,1931,Duluth\\n39.9,Velvet,1931,University Farm\\n50.23333,Velvet,1931,Waseca\\n26.13333,Velvet,1931,Morris\\n41.33333,Velvet,1931,Crookston\\n23.03333,Velvet,1931,Grand Rapids\\n26.3,Velvet,1931,Duluth\\n36.56666,Trebi,1931,University Farm\\n63.8333,Trebi,1931,Waseca\\n43.76667,Trebi,1931,Morris\\n46.93333,Trebi,1931,Crookston\\n29.76667,Trebi,1931,Grand Rapids\\n33.93333,Trebi,1931,Duluth\\n43.26667,No. 457,1931,University Farm\\n58.1,No. 457,1931,Waseca\\n28.7,No. 457,1931,Morris\\n45.66667,No. 457,1931,Crookston\\n32.16667,No. 457,1931,Grand Rapids\\n33.6,No. 457,1931,Duluth\\n36.6,No. 462,1931,University Farm\\n65.7667,No. 462,1931,Waseca\\n30.36667,No. 462,1931,Morris\\n48.56666,No. 462,1931,Crookston\\n24.93334,No. 462,1931,Grand Rapids\\n28.1,No. 462,1931,Duluth\\n32.76667,Peatland,1931,University Farm\\n48.56666,Peatland,1931,Waseca\\n29.86667,Peatland,1931,Morris\\n41.6,Peatland,1931,Crookston\\n34.7,Peatland,1931,Grand Rapids\\n32,Peatland,1931,Duluth\\n24.66667,No. 475,1931,University Farm\\n46.76667,No. 475,1931,Waseca\\n22.6,No. 475,1931,Morris\\n44.1,No. 475,1931,Crookston\\n19.7,No. 475,1931,Grand Rapids\\n33.06666,No. 475,1931,Duluth\\n39.3,Wisconsin No. 38,1931,University Farm\\n58.8,Wisconsin No. 38,1931,Waseca\\n29.46667,Wisconsin No. 38,1931,Morris\\n49.86667,Wisconsin No. 38,1931,Crookston\\n34.46667,Wisconsin No. 38,1931,Grand Rapids\\n31.6,Wisconsin No. 38,1931,Duluth\\n26.9,Manchuria,1932,University Farm\\n33.46667,Manchuria,1932,Waseca\\n34.36666,Manchuria,1932,Morris\\n32.96667,Manchuria,1932,Crookston\\n22.13333,Manchuria,1932,Grand Rapids\\n22.56667,Manchuria,1932,Duluth\\n36.8,Glabron,1932,University Farm\\n37.73333,Glabron,1932,Waseca\\n35.13333,Glabron,1932,Morris\\n26.16667,Glabron,1932,Crookston\\n14.43333,Glabron,1932,Grand Rapids\\n25.86667,Glabron,1932,Duluth\\n27.43334,Svansota,1932,University Farm\\n38.5,Svansota,1932,Waseca\\n35.03333,Svansota,1932,Morris\\n20.63333,Svansota,1932,Crookston\\n16.63333,Svansota,1932,Grand Rapids\\n22.23333,Svansota,1932,Duluth\\n26.8,Velvet,1932,University Farm\\n37.4,Velvet,1932,Waseca\\n38.83333,Velvet,1932,Morris\\n32.06666,Velvet,1932,Crookston\\n32.23333,Velvet,1932,Grand Rapids\\n22.46667,Velvet,1932,Duluth\\n29.06667,Trebi,1932,University Farm\\n49.2333,Trebi,1932,Waseca\\n46.63333,Trebi,1932,Morris\\n41.83333,Trebi,1932,Crookston\\n20.63333,Trebi,1932,Grand Rapids\\n30.6,Trebi,1932,Duluth\\n26.43334,No. 457,1932,University Farm\\n42.2,No. 457,1932,Waseca\\n43.53334,No. 457,1932,Morris\\n34.33333,No. 457,1932,Crookston\\n19.46667,No. 457,1932,Grand Rapids\\n22.7,No. 457,1932,Duluth\\n25.56667,No. 462,1932,University Farm\\n44.7,No. 462,1932,Waseca\\n47,No. 462,1932,Morris\\n30.53333,No. 462,1932,Crookston\\n19.9,No. 462,1932,Grand Rapids\\n22.5,No. 462,1932,Duluth\\n28.06667,Peatland,1932,University Farm\\n36.03333,Peatland,1932,Waseca\\n43.2,Peatland,1932,Morris\\n25.23333,Peatland,1932,Crookston\\n26.76667,Peatland,1932,Grand Rapids\\n31.36667,Peatland,1932,Duluth\\n30,No. 475,1932,University Farm\\n41.26667,No. 475,1932,Waseca\\n44.23333,No. 475,1932,Morris\\n32.13333,No. 475,1932,Crookston\\n15.23333,No. 475,1932,Grand Rapids\\n27.36667,No. 475,1932,Duluth\\n38,Wisconsin No. 38,1932,University Farm\\n58.16667,Wisconsin No. 38,1932,Waseca\\n47.16667,Wisconsin No. 38,1932,Morris\\n35.9,Wisconsin No. 38,1932,Crookston\\n20.66667,Wisconsin No. 38,1932,Grand Rapids\\n29.33333,Wisconsin No. 38,1932,Duluth\\n\"},\"encoding\":{\"color\":{\"field\":\"site\"},\"x\":{\"aggregate\":\"sum\",\"field\":\"yield\"},\"y\":{\"field\":\"variety\"}},\"height\":600,\"mark\":{\"tooltip\":true,\"type\":\"bar\"},\"width\":800}, {});\n",
       "</script>\n"
      ]
     },
     "metadata": {},
     "output_type": "display_data"
    }
   ],
   "source": [
    "{:ok, data} = DF.to_csv(barley)\n",
    "c = Chart.new(Mark.new(:bar, true), Encoding.new(%{\n",
    "    x: %{aggregate: \"sum\", field: \"yield\"},\n",
    "    y: %{field: \"variety\"},\n",
    "    color: %{field: \"site\"}\n",
    "}))\n",
    "spec = Deneb.to_json(Chart.to_json(c, [width: 800, height: 600]), data)\n",
    "Viewer.display(spec)"
   ]
  },
  {
   "cell_type": "code",
   "execution_count": 41,
   "metadata": {},
   "outputs": [
    {
     "data": {
      "text/plain": [
       "shape: (150, 5)\n",
       "╭─────────────┬────────────┬─────────────┬────────────┬───────────╮\n",
       "│ sepalLength ┆ sepalWidth ┆ petalLength ┆ petalWidth ┆ species   │\n",
       "│ ---         ┆ ---        ┆ ---         ┆ ---        ┆ ---       │\n",
       "│ f64         ┆ f64        ┆ f64         ┆ f64        ┆ str       │\n",
       "╞═════════════╪════════════╪═════════════╪════════════╪═══════════╡\n",
       "│ 5.1         ┆ 3.5        ┆ 1.4         ┆ 0.2        ┆ setosa    │\n",
       "├╌╌╌╌╌╌╌╌╌╌╌╌╌┼╌╌╌╌╌╌╌╌╌╌╌╌┼╌╌╌╌╌╌╌╌╌╌╌╌╌┼╌╌╌╌╌╌╌╌╌╌╌╌┼╌╌╌╌╌╌╌╌╌╌╌┤\n",
       "│ 4.9         ┆ 3          ┆ 1.4         ┆ 0.2        ┆ setosa    │\n",
       "├╌╌╌╌╌╌╌╌╌╌╌╌╌┼╌╌╌╌╌╌╌╌╌╌╌╌┼╌╌╌╌╌╌╌╌╌╌╌╌╌┼╌╌╌╌╌╌╌╌╌╌╌╌┼╌╌╌╌╌╌╌╌╌╌╌┤\n",
       "│ 4.7         ┆ 3.2        ┆ 1.3         ┆ 0.2        ┆ setosa    │\n",
       "├╌╌╌╌╌╌╌╌╌╌╌╌╌┼╌╌╌╌╌╌╌╌╌╌╌╌┼╌╌╌╌╌╌╌╌╌╌╌╌╌┼╌╌╌╌╌╌╌╌╌╌╌╌┼╌╌╌╌╌╌╌╌╌╌╌┤\n",
       "│ 4.6         ┆ 3.1        ┆ 1.5         ┆ 0.2        ┆ setosa    │\n",
       "├╌╌╌╌╌╌╌╌╌╌╌╌╌┼╌╌╌╌╌╌╌╌╌╌╌╌┼╌╌╌╌╌╌╌╌╌╌╌╌╌┼╌╌╌╌╌╌╌╌╌╌╌╌┼╌╌╌╌╌╌╌╌╌╌╌┤\n",
       "│ ...         ┆ ...        ┆ ...         ┆ ...        ┆ ...       │\n",
       "├╌╌╌╌╌╌╌╌╌╌╌╌╌┼╌╌╌╌╌╌╌╌╌╌╌╌┼╌╌╌╌╌╌╌╌╌╌╌╌╌┼╌╌╌╌╌╌╌╌╌╌╌╌┼╌╌╌╌╌╌╌╌╌╌╌┤\n",
       "│ 6.7         ┆ 3          ┆ 5.2         ┆ 2.3        ┆ virginica │\n",
       "├╌╌╌╌╌╌╌╌╌╌╌╌╌┼╌╌╌╌╌╌╌╌╌╌╌╌┼╌╌╌╌╌╌╌╌╌╌╌╌╌┼╌╌╌╌╌╌╌╌╌╌╌╌┼╌╌╌╌╌╌╌╌╌╌╌┤\n",
       "│ 6.3         ┆ 2.5        ┆ 5           ┆ 1.9        ┆ virginica │\n",
       "├╌╌╌╌╌╌╌╌╌╌╌╌╌┼╌╌╌╌╌╌╌╌╌╌╌╌┼╌╌╌╌╌╌╌╌╌╌╌╌╌┼╌╌╌╌╌╌╌╌╌╌╌╌┼╌╌╌╌╌╌╌╌╌╌╌┤\n",
       "│ 6.5         ┆ 3          ┆ 5.2         ┆ 2          ┆ virginica │\n",
       "├╌╌╌╌╌╌╌╌╌╌╌╌╌┼╌╌╌╌╌╌╌╌╌╌╌╌┼╌╌╌╌╌╌╌╌╌╌╌╌╌┼╌╌╌╌╌╌╌╌╌╌╌╌┼╌╌╌╌╌╌╌╌╌╌╌┤\n",
       "│ 6.2         ┆ 3.4        ┆ 5.4         ┆ 2.3        ┆ virginica │\n",
       "├╌╌╌╌╌╌╌╌╌╌╌╌╌┼╌╌╌╌╌╌╌╌╌╌╌╌┼╌╌╌╌╌╌╌╌╌╌╌╌╌┼╌╌╌╌╌╌╌╌╌╌╌╌┼╌╌╌╌╌╌╌╌╌╌╌┤\n",
       "│ 5.9         ┆ 3          ┆ 5.1         ┆ 1.8        ┆ virginica │\n",
       "╰─────────────┴────────────┴─────────────┴────────────┴───────────╯"
      ]
     },
     "execution_count": 41,
     "metadata": {},
     "output_type": "execute_result"
    }
   ],
   "source": [
    "iris = ExPolars.Datasets.iris"
   ]
  },
  {
   "cell_type": "code",
   "execution_count": 42,
   "metadata": {},
   "outputs": [
    {
     "data": {
      "text/html": [
       "<div id=\"deneb-chart-4214b663a7f144999bf85d2fb0a78f6a\"></div>\n",
       "<script type=\"text/javascript\">\n",
       "(function(spec, embedOpt) {\n",
       "  const outputDiv = document.getElementById(\"deneb-chart-4214b663a7f144999bf85d2fb0a78f6a\");\n",
       "  const urls = {\n",
       "    \"vega\": \"https://cdn.jsdelivr.net/npm/vega@5.18.0\",\n",
       "    \"vega-lite\": \"https://cdn.jsdelivr.net/npm/vega-lite@4.17.0\",\n",
       "    \"vega-embed\": \"https://cdn.jsdelivr.net/npm/vega-embed@6.15.0\",\n",
       "  };\n",
       "  function loadScript(lib) {\n",
       "    return new Promise(function(resolve, reject) {\n",
       "      var s = document.createElement('script');\n",
       "      s.src = urls[lib];\n",
       "      s.async = true;\n",
       "      s.onload = () => resolve(urls[lib]);\n",
       "      s.onerror = () => reject(`Error loading script: ${urls[lib]}`);\n",
       "      document.getElementsByTagName(\"head\")[0].appendChild(s);\n",
       "    });\n",
       "  }\n",
       "  function showError(err) {\n",
       "    outputDiv.innerHTML = `<div class=\"error\" style=\"color:red;\">${err}</div>`;\n",
       "    throw err;\n",
       "  }\n",
       "  function displayChart(vegaEmbed) {\n",
       "    vegaEmbed(outputDiv, spec, embedOpt)\n",
       "      .catch(err => showError(`Javascript Error: ${err.message}<br>This usually means there's a typo in your chart specification. See the javascript console for the full traceback.`));\n",
       "  }\n",
       "  if(typeof define === \"function\" && define.amd) {\n",
       "      // requirejs paths need '.js' extension stripped.\n",
       "      const paths = Object.keys(urls).reduce(function(paths, package) {\n",
       "          paths[package] = urls[package].replace(/\\.js$/, \"\");\n",
       "          return paths\n",
       "      }, {})\n",
       "      requirejs.config({paths});\n",
       "      require([\"vega-embed\"], displayChart, err => showError(`Error loading script: ${err.message}`));\n",
       "  } else if (typeof vegaEmbed === \"function\") {\n",
       "      displayChart(vegaEmbed);\n",
       "  } else {\n",
       "      loadScript(\"vega\")\n",
       "          .then(() => loadScript(\"vega-lite\"))\n",
       "          .then(() => loadScript(\"vega-embed\"))\n",
       "          .catch(showError)\n",
       "          .then(() => displayChart(vegaEmbed));\n",
       "  }\n",
       "})({\"$schema\":\"https://vega.github.io/schema/vega-lite/v4.json\",\"data\":{\"format\":{\"type\":\"csv\"},\"values\":\"sepalLength,sepalWidth,petalLength,petalWidth,species\\n5.1,3.5,1.4,0.2,setosa\\n4.9,3,1.4,0.2,setosa\\n4.7,3.2,1.3,0.2,setosa\\n4.6,3.1,1.5,0.2,setosa\\n5,3.6,1.4,0.2,setosa\\n5.4,3.9,1.7,0.4,setosa\\n4.6,3.4,1.4,0.3,setosa\\n5,3.4,1.5,0.2,setosa\\n4.4,2.9,1.4,0.2,setosa\\n4.9,3.1,1.5,0.1,setosa\\n5.4,3.7,1.5,0.2,setosa\\n4.8,3.4,1.6,0.2,setosa\\n4.8,3,1.4,0.1,setosa\\n4.3,3,1.1,0.1,setosa\\n5.8,4,1.2,0.2,setosa\\n5.7,4.4,1.5,0.4,setosa\\n5.4,3.9,1.3,0.4,setosa\\n5.1,3.5,1.4,0.3,setosa\\n5.7,3.8,1.7,0.3,setosa\\n5.1,3.8,1.5,0.3,setosa\\n5.4,3.4,1.7,0.2,setosa\\n5.1,3.7,1.5,0.4,setosa\\n4.6,3.6,1,0.2,setosa\\n5.1,3.3,1.7,0.5,setosa\\n4.8,3.4,1.9,0.2,setosa\\n5,3,1.6,0.2,setosa\\n5,3.4,1.6,0.4,setosa\\n5.2,3.5,1.5,0.2,setosa\\n5.2,3.4,1.4,0.2,setosa\\n4.7,3.2,1.6,0.2,setosa\\n4.8,3.1,1.6,0.2,setosa\\n5.4,3.4,1.5,0.4,setosa\\n5.2,4.1,1.5,0.1,setosa\\n5.5,4.2,1.4,0.2,setosa\\n4.9,3.1,1.5,0.2,setosa\\n5,3.2,1.2,0.2,setosa\\n5.5,3.5,1.3,0.2,setosa\\n4.9,3.6,1.4,0.1,setosa\\n4.4,3,1.3,0.2,setosa\\n5.1,3.4,1.5,0.2,setosa\\n5,3.5,1.3,0.3,setosa\\n4.5,2.3,1.3,0.3,setosa\\n4.4,3.2,1.3,0.2,setosa\\n5,3.5,1.6,0.6,setosa\\n5.1,3.8,1.9,0.4,setosa\\n4.8,3,1.4,0.3,setosa\\n5.1,3.8,1.6,0.2,setosa\\n4.6,3.2,1.4,0.2,setosa\\n5.3,3.7,1.5,0.2,setosa\\n5,3.3,1.4,0.2,setosa\\n7,3.2,4.7,1.4,versicolor\\n6.4,3.2,4.5,1.5,versicolor\\n6.9,3.1,4.9,1.5,versicolor\\n5.5,2.3,4,1.3,versicolor\\n6.5,2.8,4.6,1.5,versicolor\\n5.7,2.8,4.5,1.3,versicolor\\n6.3,3.3,4.7,1.6,versicolor\\n4.9,2.4,3.3,1,versicolor\\n6.6,2.9,4.6,1.3,versicolor\\n5.2,2.7,3.9,1.4,versicolor\\n5,2,3.5,1,versicolor\\n5.9,3,4.2,1.5,versicolor\\n6,2.2,4,1,versicolor\\n6.1,2.9,4.7,1.4,versicolor\\n5.6,2.9,3.6,1.3,versicolor\\n6.7,3.1,4.4,1.4,versicolor\\n5.6,3,4.5,1.5,versicolor\\n5.8,2.7,4.1,1,versicolor\\n6.2,2.2,4.5,1.5,versicolor\\n5.6,2.5,3.9,1.1,versicolor\\n5.9,3.2,4.8,1.8,versicolor\\n6.1,2.8,4,1.3,versicolor\\n6.3,2.5,4.9,1.5,versicolor\\n6.1,2.8,4.7,1.2,versicolor\\n6.4,2.9,4.3,1.3,versicolor\\n6.6,3,4.4,1.4,versicolor\\n6.8,2.8,4.8,1.4,versicolor\\n6.7,3,5,1.7,versicolor\\n6,2.9,4.5,1.5,versicolor\\n5.7,2.6,3.5,1,versicolor\\n5.5,2.4,3.8,1.1,versicolor\\n5.5,2.4,3.7,1,versicolor\\n5.8,2.7,3.9,1.2,versicolor\\n6,2.7,5.1,1.6,versicolor\\n5.4,3,4.5,1.5,versicolor\\n6,3.4,4.5,1.6,versicolor\\n6.7,3.1,4.7,1.5,versicolor\\n6.3,2.3,4.4,1.3,versicolor\\n5.6,3,4.1,1.3,versicolor\\n5.5,2.5,4,1.3,versicolor\\n5.5,2.6,4.4,1.2,versicolor\\n6.1,3,4.6,1.4,versicolor\\n5.8,2.6,4,1.2,versicolor\\n5,2.3,3.3,1,versicolor\\n5.6,2.7,4.2,1.3,versicolor\\n5.7,3,4.2,1.2,versicolor\\n5.7,2.9,4.2,1.3,versicolor\\n6.2,2.9,4.3,1.3,versicolor\\n5.1,2.5,3,1.1,versicolor\\n5.7,2.8,4.1,1.3,versicolor\\n6.3,3.3,6,2.5,virginica\\n5.8,2.7,5.1,1.9,virginica\\n7.1,3,5.9,2.1,virginica\\n6.3,2.9,5.6,1.8,virginica\\n6.5,3,5.8,2.2,virginica\\n7.6,3,6.6,2.1,virginica\\n4.9,2.5,4.5,1.7,virginica\\n7.3,2.9,6.3,1.8,virginica\\n6.7,2.5,5.8,1.8,virginica\\n7.2,3.6,6.1,2.5,virginica\\n6.5,3.2,5.1,2,virginica\\n6.4,2.7,5.3,1.9,virginica\\n6.8,3,5.5,2.1,virginica\\n5.7,2.5,5,2,virginica\\n5.8,2.8,5.1,2.4,virginica\\n6.4,3.2,5.3,2.3,virginica\\n6.5,3,5.5,1.8,virginica\\n7.7,3.8,6.7,2.2,virginica\\n7.7,2.6,6.9,2.3,virginica\\n6,2.2,5,1.5,virginica\\n6.9,3.2,5.7,2.3,virginica\\n5.6,2.8,4.9,2,virginica\\n7.7,2.8,6.7,2,virginica\\n6.3,2.7,4.9,1.8,virginica\\n6.7,3.3,5.7,2.1,virginica\\n7.2,3.2,6,1.8,virginica\\n6.2,2.8,4.8,1.8,virginica\\n6.1,3,4.9,1.8,virginica\\n6.4,2.8,5.6,2.1,virginica\\n7.2,3,5.8,1.6,virginica\\n7.4,2.8,6.1,1.9,virginica\\n7.9,3.8,6.4,2,virginica\\n6.4,2.8,5.6,2.2,virginica\\n6.3,2.8,5.1,1.5,virginica\\n6.1,2.6,5.6,1.4,virginica\\n7.7,3,6.1,2.3,virginica\\n6.3,3.4,5.6,2.4,virginica\\n6.4,3.1,5.5,1.8,virginica\\n6,3,4.8,1.8,virginica\\n6.9,3.1,5.4,2.1,virginica\\n6.7,3.1,5.6,2.4,virginica\\n6.9,3.1,5.1,2.3,virginica\\n5.8,2.7,5.1,1.9,virginica\\n6.8,3.2,5.9,2.3,virginica\\n6.7,3.3,5.7,2.5,virginica\\n6.7,3,5.2,2.3,virginica\\n6.3,2.5,5,1.9,virginica\\n6.5,3,5.2,2,virginica\\n6.2,3.4,5.4,2.3,virginica\\n5.9,3,5.1,1.8,virginica\\n\"},\"encoding\":{\"color\":{\"field\":\"species\",\"type\":\"nominal\"},\"x\":{\"field\":\"sepalLength\",\"type\":\"quantitative\"},\"y\":{\"field\":\"sepalWidth\",\"type\":\"quantitative\"}},\"height\":600,\"mark\":{\"tooltip\":true,\"type\":\"circle\"},\"width\":800}, {});\n",
       "</script>\n"
      ]
     },
     "metadata": {},
     "output_type": "display_data"
    }
   ],
   "source": [
    "DF.plot_single(iris, :circle, \"sepalLength\", \"sepalWidth\", [color: \"species\", width: 800, height: 600]) |> Deneb.Viewer.display"
   ]
  },
  {
   "cell_type": "code",
   "execution_count": 45,
   "metadata": {},
   "outputs": [
    {
     "data": {
      "text/html": [
       "<div id=\"deneb-chart-92ccf16ebfb04c8a8a4589154c003f07\"></div>\n",
       "<script type=\"text/javascript\">\n",
       "(function(spec, embedOpt) {\n",
       "  const outputDiv = document.getElementById(\"deneb-chart-92ccf16ebfb04c8a8a4589154c003f07\");\n",
       "  const urls = {\n",
       "    \"vega\": \"https://cdn.jsdelivr.net/npm/vega@5.18.0\",\n",
       "    \"vega-lite\": \"https://cdn.jsdelivr.net/npm/vega-lite@4.17.0\",\n",
       "    \"vega-embed\": \"https://cdn.jsdelivr.net/npm/vega-embed@6.15.0\",\n",
       "  };\n",
       "  function loadScript(lib) {\n",
       "    return new Promise(function(resolve, reject) {\n",
       "      var s = document.createElement('script');\n",
       "      s.src = urls[lib];\n",
       "      s.async = true;\n",
       "      s.onload = () => resolve(urls[lib]);\n",
       "      s.onerror = () => reject(`Error loading script: ${urls[lib]}`);\n",
       "      document.getElementsByTagName(\"head\")[0].appendChild(s);\n",
       "    });\n",
       "  }\n",
       "  function showError(err) {\n",
       "    outputDiv.innerHTML = `<div class=\"error\" style=\"color:red;\">${err}</div>`;\n",
       "    throw err;\n",
       "  }\n",
       "  function displayChart(vegaEmbed) {\n",
       "    vegaEmbed(outputDiv, spec, embedOpt)\n",
       "      .catch(err => showError(`Javascript Error: ${err.message}<br>This usually means there's a typo in your chart specification. See the javascript console for the full traceback.`));\n",
       "  }\n",
       "  if(typeof define === \"function\" && define.amd) {\n",
       "      // requirejs paths need '.js' extension stripped.\n",
       "      const paths = Object.keys(urls).reduce(function(paths, package) {\n",
       "          paths[package] = urls[package].replace(/\\.js$/, \"\");\n",
       "          return paths\n",
       "      }, {})\n",
       "      requirejs.config({paths});\n",
       "      require([\"vega-embed\"], displayChart, err => showError(`Error loading script: ${err.message}`));\n",
       "  } else if (typeof vegaEmbed === \"function\") {\n",
       "      displayChart(vegaEmbed);\n",
       "  } else {\n",
       "      loadScript(\"vega\")\n",
       "          .then(() => loadScript(\"vega-lite\"))\n",
       "          .then(() => loadScript(\"vega-embed\"))\n",
       "          .catch(showError)\n",
       "          .then(() => displayChart(vegaEmbed));\n",
       "  }\n",
       "})({\"$schema\":\"https://vega.github.io/schema/vega-lite/v4.json\",\"data\":{\"format\":{\"type\":\"csv\"},\"values\":\"sepalLength,sepalWidth,petalLength,petalWidth,species\\n5.1,3.5,1.4,0.2,setosa\\n4.9,3,1.4,0.2,setosa\\n4.7,3.2,1.3,0.2,setosa\\n4.6,3.1,1.5,0.2,setosa\\n5,3.6,1.4,0.2,setosa\\n5.4,3.9,1.7,0.4,setosa\\n4.6,3.4,1.4,0.3,setosa\\n5,3.4,1.5,0.2,setosa\\n4.4,2.9,1.4,0.2,setosa\\n4.9,3.1,1.5,0.1,setosa\\n5.4,3.7,1.5,0.2,setosa\\n4.8,3.4,1.6,0.2,setosa\\n4.8,3,1.4,0.1,setosa\\n4.3,3,1.1,0.1,setosa\\n5.8,4,1.2,0.2,setosa\\n5.7,4.4,1.5,0.4,setosa\\n5.4,3.9,1.3,0.4,setosa\\n5.1,3.5,1.4,0.3,setosa\\n5.7,3.8,1.7,0.3,setosa\\n5.1,3.8,1.5,0.3,setosa\\n5.4,3.4,1.7,0.2,setosa\\n5.1,3.7,1.5,0.4,setosa\\n4.6,3.6,1,0.2,setosa\\n5.1,3.3,1.7,0.5,setosa\\n4.8,3.4,1.9,0.2,setosa\\n5,3,1.6,0.2,setosa\\n5,3.4,1.6,0.4,setosa\\n5.2,3.5,1.5,0.2,setosa\\n5.2,3.4,1.4,0.2,setosa\\n4.7,3.2,1.6,0.2,setosa\\n4.8,3.1,1.6,0.2,setosa\\n5.4,3.4,1.5,0.4,setosa\\n5.2,4.1,1.5,0.1,setosa\\n5.5,4.2,1.4,0.2,setosa\\n4.9,3.1,1.5,0.2,setosa\\n5,3.2,1.2,0.2,setosa\\n5.5,3.5,1.3,0.2,setosa\\n4.9,3.6,1.4,0.1,setosa\\n4.4,3,1.3,0.2,setosa\\n5.1,3.4,1.5,0.2,setosa\\n5,3.5,1.3,0.3,setosa\\n4.5,2.3,1.3,0.3,setosa\\n4.4,3.2,1.3,0.2,setosa\\n5,3.5,1.6,0.6,setosa\\n5.1,3.8,1.9,0.4,setosa\\n4.8,3,1.4,0.3,setosa\\n5.1,3.8,1.6,0.2,setosa\\n4.6,3.2,1.4,0.2,setosa\\n5.3,3.7,1.5,0.2,setosa\\n5,3.3,1.4,0.2,setosa\\n7,3.2,4.7,1.4,versicolor\\n6.4,3.2,4.5,1.5,versicolor\\n6.9,3.1,4.9,1.5,versicolor\\n5.5,2.3,4,1.3,versicolor\\n6.5,2.8,4.6,1.5,versicolor\\n5.7,2.8,4.5,1.3,versicolor\\n6.3,3.3,4.7,1.6,versicolor\\n4.9,2.4,3.3,1,versicolor\\n6.6,2.9,4.6,1.3,versicolor\\n5.2,2.7,3.9,1.4,versicolor\\n5,2,3.5,1,versicolor\\n5.9,3,4.2,1.5,versicolor\\n6,2.2,4,1,versicolor\\n6.1,2.9,4.7,1.4,versicolor\\n5.6,2.9,3.6,1.3,versicolor\\n6.7,3.1,4.4,1.4,versicolor\\n5.6,3,4.5,1.5,versicolor\\n5.8,2.7,4.1,1,versicolor\\n6.2,2.2,4.5,1.5,versicolor\\n5.6,2.5,3.9,1.1,versicolor\\n5.9,3.2,4.8,1.8,versicolor\\n6.1,2.8,4,1.3,versicolor\\n6.3,2.5,4.9,1.5,versicolor\\n6.1,2.8,4.7,1.2,versicolor\\n6.4,2.9,4.3,1.3,versicolor\\n6.6,3,4.4,1.4,versicolor\\n6.8,2.8,4.8,1.4,versicolor\\n6.7,3,5,1.7,versicolor\\n6,2.9,4.5,1.5,versicolor\\n5.7,2.6,3.5,1,versicolor\\n5.5,2.4,3.8,1.1,versicolor\\n5.5,2.4,3.7,1,versicolor\\n5.8,2.7,3.9,1.2,versicolor\\n6,2.7,5.1,1.6,versicolor\\n5.4,3,4.5,1.5,versicolor\\n6,3.4,4.5,1.6,versicolor\\n6.7,3.1,4.7,1.5,versicolor\\n6.3,2.3,4.4,1.3,versicolor\\n5.6,3,4.1,1.3,versicolor\\n5.5,2.5,4,1.3,versicolor\\n5.5,2.6,4.4,1.2,versicolor\\n6.1,3,4.6,1.4,versicolor\\n5.8,2.6,4,1.2,versicolor\\n5,2.3,3.3,1,versicolor\\n5.6,2.7,4.2,1.3,versicolor\\n5.7,3,4.2,1.2,versicolor\\n5.7,2.9,4.2,1.3,versicolor\\n6.2,2.9,4.3,1.3,versicolor\\n5.1,2.5,3,1.1,versicolor\\n5.7,2.8,4.1,1.3,versicolor\\n6.3,3.3,6,2.5,virginica\\n5.8,2.7,5.1,1.9,virginica\\n7.1,3,5.9,2.1,virginica\\n6.3,2.9,5.6,1.8,virginica\\n6.5,3,5.8,2.2,virginica\\n7.6,3,6.6,2.1,virginica\\n4.9,2.5,4.5,1.7,virginica\\n7.3,2.9,6.3,1.8,virginica\\n6.7,2.5,5.8,1.8,virginica\\n7.2,3.6,6.1,2.5,virginica\\n6.5,3.2,5.1,2,virginica\\n6.4,2.7,5.3,1.9,virginica\\n6.8,3,5.5,2.1,virginica\\n5.7,2.5,5,2,virginica\\n5.8,2.8,5.1,2.4,virginica\\n6.4,3.2,5.3,2.3,virginica\\n6.5,3,5.5,1.8,virginica\\n7.7,3.8,6.7,2.2,virginica\\n7.7,2.6,6.9,2.3,virginica\\n6,2.2,5,1.5,virginica\\n6.9,3.2,5.7,2.3,virginica\\n5.6,2.8,4.9,2,virginica\\n7.7,2.8,6.7,2,virginica\\n6.3,2.7,4.9,1.8,virginica\\n6.7,3.3,5.7,2.1,virginica\\n7.2,3.2,6,1.8,virginica\\n6.2,2.8,4.8,1.8,virginica\\n6.1,3,4.9,1.8,virginica\\n6.4,2.8,5.6,2.1,virginica\\n7.2,3,5.8,1.6,virginica\\n7.4,2.8,6.1,1.9,virginica\\n7.9,3.8,6.4,2,virginica\\n6.4,2.8,5.6,2.2,virginica\\n6.3,2.8,5.1,1.5,virginica\\n6.1,2.6,5.6,1.4,virginica\\n7.7,3,6.1,2.3,virginica\\n6.3,3.4,5.6,2.4,virginica\\n6.4,3.1,5.5,1.8,virginica\\n6,3,4.8,1.8,virginica\\n6.9,3.1,5.4,2.1,virginica\\n6.7,3.1,5.6,2.4,virginica\\n6.9,3.1,5.1,2.3,virginica\\n5.8,2.7,5.1,1.9,virginica\\n6.8,3.2,5.9,2.3,virginica\\n6.7,3.3,5.7,2.5,virginica\\n6.7,3,5.2,2.3,virginica\\n6.3,2.5,5,1.9,virginica\\n6.5,3,5.2,2,virginica\\n6.2,3.4,5.4,2.3,virginica\\n5.9,3,5.1,1.8,virginica\\n\"},\"repeat\":{\"column\":[\"petalLength\",\"petalWidth\",\"sepalLength\",\"sepalWidth\"],\"row\":[\"sepalLength\",\"sepalWidth\",\"petalLength\",\"petalWidth\"]},\"spec\":{\"encoding\":{\"color\":{\"field\":\"species\",\"type\":\"nominal\"},\"x\":{\"field\":{\"repeat\":\"column\"},\"type\":\"quantitative\"},\"y\":{\"axis\":{\"minExtend\":30},\"field\":{\"repeat\":\"row\"},\"type\":\"quantitative\"}},\"height\":400,\"mark\":{\"tooltip\":true,\"type\":\"point\"},\"width\":400}}, {});\n",
       "</script>\n"
      ]
     },
     "metadata": {},
     "output_type": "display_data"
    }
   ],
   "source": [
    "rows = [\"sepalLength\", \"sepalWidth\", \"petalLength\", \"petalWidth\"]\n",
    "columns = [\"petalLength\", \"petalWidth\", \"sepalLength\", \"sepalWidth\"]\n",
    "DF.plot_repeat(iris, rows, columns, [color: \"species\", width: 400, height: 400]) |> Viewer.display"
   ]
  },
  {
   "cell_type": "code",
   "execution_count": 50,
   "metadata": {},
   "outputs": [
    {
     "data": {
      "text/plain": [
       "shape: (559, 3)\n",
       "╭────────┬────────────┬────────╮\n",
       "│ symbol ┆ date       ┆ price  │\n",
       "│ ---    ┆ ---        ┆ ---    │\n",
       "│ str    ┆ str        ┆ f64    │\n",
       "╞════════╪════════════╪════════╡\n",
       "│ MSFT   ┆ Jan 1 2000 ┆ 39.81  │\n",
       "├╌╌╌╌╌╌╌╌┼╌╌╌╌╌╌╌╌╌╌╌╌┼╌╌╌╌╌╌╌╌┤\n",
       "│ MSFT   ┆ Feb 1 2000 ┆ 36.35  │\n",
       "├╌╌╌╌╌╌╌╌┼╌╌╌╌╌╌╌╌╌╌╌╌┼╌╌╌╌╌╌╌╌┤\n",
       "│ MSFT   ┆ Mar 1 2000 ┆ 43.22  │\n",
       "├╌╌╌╌╌╌╌╌┼╌╌╌╌╌╌╌╌╌╌╌╌┼╌╌╌╌╌╌╌╌┤\n",
       "│ MSFT   ┆ Apr 1 2000 ┆ 28.37  │\n",
       "├╌╌╌╌╌╌╌╌┼╌╌╌╌╌╌╌╌╌╌╌╌┼╌╌╌╌╌╌╌╌┤\n",
       "│ ...    ┆ ...        ┆ ...    │\n",
       "├╌╌╌╌╌╌╌╌┼╌╌╌╌╌╌╌╌╌╌╌╌┼╌╌╌╌╌╌╌╌┤\n",
       "│ AAPL   ┆ Oct 1 2009 ┆ 188.5  │\n",
       "├╌╌╌╌╌╌╌╌┼╌╌╌╌╌╌╌╌╌╌╌╌┼╌╌╌╌╌╌╌╌┤\n",
       "│ AAPL   ┆ Nov 1 2009 ┆ 199.91 │\n",
       "├╌╌╌╌╌╌╌╌┼╌╌╌╌╌╌╌╌╌╌╌╌┼╌╌╌╌╌╌╌╌┤\n",
       "│ AAPL   ┆ Dec 1 2009 ┆ 210.73 │\n",
       "├╌╌╌╌╌╌╌╌┼╌╌╌╌╌╌╌╌╌╌╌╌┼╌╌╌╌╌╌╌╌┤\n",
       "│ AAPL   ┆ Jan 1 2010 ┆ 192.06 │\n",
       "├╌╌╌╌╌╌╌╌┼╌╌╌╌╌╌╌╌╌╌╌╌┼╌╌╌╌╌╌╌╌┤\n",
       "│ AAPL   ┆ Feb 1 2010 ┆ 204.62 │\n",
       "╰────────┴────────────┴────────╯"
      ]
     },
     "execution_count": 50,
     "metadata": {},
     "output_type": "execute_result"
    }
   ],
   "source": [
    "stocks = ExPolars.Datasets.stocks"
   ]
  },
  {
   "cell_type": "code",
   "execution_count": 48,
   "metadata": {},
   "outputs": [
    {
     "ename": "UndefinedFunctionError",
     "evalue": "1",
     "execution_count": 48,
     "output_type": "error",
     "traceback": [
      "** %UndefinedFunctionError{arity: 1, function: :to_json, message: nil, module: Deneb, reason: nil}"
     ]
    }
   ],
   "source": [
    "transform = Deneb.Transform.new([%{pivot: \"symbol\", value: \"price\", groupby: [\"date\"]}])\n",
    ":line\n",
    "|> Mark.new(true)\n",
    "|> Chart.new(Encoding.new(%{\n",
    "    x: %{field: \"date\", type: \"temporal\"},\n",
    "    y: %{field: %{repeat: \"ticker\"}, type: \"quantitative\", title: \"price\"}\n",
    "}))\n",
    "|> Chart.repeat(%{ticker: [\"AAPL\", \"AMZN\", \"GOOG\", \"IBM\", \"MSFT\"]}, transform: transform)\n",
    "|> Deneb.to_json()\n",
    "|> Viewer.display"
   ]
  },
  {
   "cell_type": "code",
   "execution_count": null,
   "metadata": {},
   "outputs": [],
   "source": []
  }
 ],
 "metadata": {
  "kernelspec": {
   "display_name": "Elixir",
   "language": "Elixir",
   "name": "ielixir"
  },
  "language_info": {
   "codemirror_mode": "elixir",
   "file_extension": "ex",
   "mimetype": "text/x-elixir",
   "name": "elixir",
   "nbconvert_exporter": "",
   "pygments_lexer": "elixir",
   "version": "1.11.2"
  }
 },
 "nbformat": 4,
 "nbformat_minor": 4
}
